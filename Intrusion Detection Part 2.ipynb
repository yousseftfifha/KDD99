{
 "cells": [
  {
   "cell_type": "markdown",
   "id": "ea041608-8abe-4468-aa28-82f81b5f939f",
   "metadata": {
    "tags": []
   },
   "source": [
    "# <center>${\\textbf{Intrusion Detection System}}$</center>\n"
   ]
  },
  {
   "cell_type": "markdown",
   "id": "388a3865-b82f-45d0-a800-c53ad03126fd",
   "metadata": {},
   "source": [
    "${\\textbf{Importing Libraries}}$"
   ]
  },
  {
   "cell_type": "code",
   "execution_count": 1,
   "id": "da5d6e3c-be8b-4458-b908-fc3f2012b46b",
   "metadata": {},
   "outputs": [],
   "source": [
    "import warnings\n",
    "warnings.simplefilter(\"ignore\")\n",
    "import pickle\n",
    "import os\n",
    "import datetime\n",
    "from IPython.display import Image"
   ]
  },
  {
   "cell_type": "code",
   "execution_count": 2,
   "id": "8a958e0c-d3fb-492f-86a3-4a616c2bf711",
   "metadata": {},
   "outputs": [],
   "source": [
    "import numpy as np\n",
    "import pandas as pd\n",
    "import pandas_profiling as pp"
   ]
  },
  {
   "cell_type": "code",
   "execution_count": 3,
   "id": "8c185cfb-7632-4048-8419-5e0562f270bd",
   "metadata": {},
   "outputs": [],
   "source": [
    "%matplotlib inline\n",
    "import matplotlib.pyplot as plt\n",
    "import seaborn as sns"
   ]
  },
  {
   "cell_type": "code",
   "execution_count": 4,
   "id": "31660c03-7439-447b-ab45-47a8eb985b22",
   "metadata": {},
   "outputs": [],
   "source": [
    "from sklearn.preprocessing import LabelEncoder\n",
    "from sklearn.preprocessing import MinMaxScaler"
   ]
  },
  {
   "cell_type": "code",
   "execution_count": 5,
   "id": "2ea5d0f1-c3f6-4f64-a4a0-07f9fa0b7228",
   "metadata": {},
   "outputs": [],
   "source": [
    "from sklearn.model_selection import train_test_split"
   ]
  },
  {
   "cell_type": "code",
   "execution_count": 6,
   "id": "ba5bb7eb-bff9-4636-a57c-fcb6cf7ebdfe",
   "metadata": {},
   "outputs": [],
   "source": [
    "from sklearn.metrics import auc,roc_auc_score,confusion_matrix,accuracy_score,classification_report,roc_curve\n",
    "from sklearn.metrics import mean_squared_error"
   ]
  },
  {
   "cell_type": "code",
   "execution_count": 7,
   "id": "488e32be-f793-4482-81d1-49942c0d7d73",
   "metadata": {},
   "outputs": [],
   "source": [
    "from sklearn.cluster import KMeans"
   ]
  },
  {
   "cell_type": "code",
   "execution_count": 8,
   "id": "fc038048-702c-4e69-8688-a73465ac43d2",
   "metadata": {},
   "outputs": [],
   "source": [
    "import tensorflow as tf\n",
    "from tensorflow.keras import optimizers\n",
    "from tensorflow.keras.models import Model\n",
    "from tensorflow.keras.layers import Input, Dense, Dropout\n",
    "from tensorflow.keras.utils import plot_model\n",
    "%load_ext tensorboard"
   ]
  },
  {
   "cell_type": "code",
   "execution_count": 9,
   "id": "62b35330-22f8-4daa-81da-4636bce77c59",
   "metadata": {},
   "outputs": [],
   "source": [
    "np.random.seed(123)\n",
    "pd.set_option('display.max_columns', None)\n",
    "data_path = './data/kddcup.data.corrected'"
   ]
  },
  {
   "cell_type": "markdown",
   "id": "0d29ac40-22e1-4a6c-bc36-f249ae7f369b",
   "metadata": {},
   "source": [
    "<center>${\\textbf{Data OverView}}$<center> \n"
   ]
  },
  {
   "cell_type": "code",
   "execution_count": 10,
   "id": "2fa2bf07-b9b4-44f0-b65d-37a3ba7c4c6d",
   "metadata": {},
   "outputs": [],
   "source": [
    "col_names = [\"duration\",\"protocol_type\",\"service\",\"flag\",\"src_bytes\",\"dst_bytes\",\"land\",\"wrong_fragment\",\"urgent\",\"hot\",\"num_failed_logins\",\"logged_in\",\n",
    "             \"num_compromised\",\"root_shell\",\"su_attempted\",\"num_root\",\"num_file_creations\",\"num_shells\",\"num_access_files\",\"num_outbound_cmds\",\n",
    "             \"is_host_login\",\"is_guest_login\",\"count\",\"srv_count\",\"serror_rate\",\"srv_serror_rate\",\"rerror_rate\",\"srv_rerror_rate\",\"same_srv_rate\",\n",
    "             \"diff_srv_rate\",\"srv_diff_host_rate\",\"dst_host_count\",\"dst_host_srv_count\",\"dst_host_same_srv_rate\",\"dst_host_diff_srv_rate\",\n",
    "             \"dst_host_same_src_port_rate\",\"dst_host_srv_diff_host_rate\",\"dst_host_serror_rate\",\"dst_host_srv_serror_rate\",\"dst_host_rerror_rate\",\n",
    "             \"dst_host_srv_rerror_rate\",\"label\"]\n",
    "KDD99 =  pd.read_csv(data_path, header=None,names=col_names)"
   ]
  },
  {
   "cell_type": "markdown",
   "id": "19336c51-d180-44cc-bcc2-7344b6d9bd52",
   "metadata": {},
   "source": [
    "${\\textbf{Data Set Information: }}$\n",
    "This is the data set used for The Third International Knowledge Discovery and Data Mining Tools Competition, which was held in conjunction with KDD-99 The Fifth International Conference on Knowledge Discovery and Data Mining. The competition task was to build a network intrusion detector, a predictive model capable of distinguishing between \"bad\" connections, called intrusions or attacks, and \"good\" normal connections. This database contains a standard set of data to be audited, which includes a wide variety of intrusions simulated in a military network environment.\n",
    "\n",
    "Each row of the KDD Cup 99 dataset represents a network connection, with 41 independent variables and 1 dependent variable. The independent variables can be divided into three categories:\n",
    "1. Basic network connection input characteristics such as duration, protocol type, and number of bytes from source IP addresses\n",
    "2. Network connection content input features\n",
    "3. Over a time window, the statistical input features are computed.\n",
    "\n",
    "${\\textbf{Attribute Information: }}$\n",
    "1. duration: duration of connection in seconds\n",
    "2. protocoll_type: connection protocol (tcp,udp,icmp)\n",
    "3. service: dst port mapped to service (http,ftp,...)\n",
    "4. flag: normal or error status flag of connection\n",
    "5. src_bytes: number of data bytes from src to dst\n",
    "6. dst_bytes: number of data bytes from dst to src\n",
    "7. land: 1 if connection is from/to the same host/port else 0\n",
    "8. wrong_fragment: number of 'wrong' fragments (0,1,3)\n",
    "9. urgent: number of urgent packets\n",
    "10. hot: number of hot indicators(bro-ids feature)\n",
    "11. num_failed_logins: number of failed login attempts\n",
    "12. logged_in: 1 if succefully logged in else 0\n",
    "13. num_compromised: number of compromised condtions\n",
    "14. root_shell: 1 if root shell obtained else 0\n",
    "15. su_attempted: 1  if root mood attempted else 0\n",
    "16. num_root: number of root accesses\n",
    "17. num_file_creations: number of file creation operations\n",
    "18. num_shells: number of shell prompts\n",
    "19. num_access_files:  number of operations on access control files\n",
    "20. num_outbound_cmds:  number of outbound commands in an ftp session\n",
    "21. is_host_login:  1 if login belongs to hot list(root,admin) else 0\n",
    "22. is_guest_login: 1 if login is guest else 0\n",
    "23. count: number of connections to the same host as current connection in past 2 seconds\n",
    "24. srv_count: number of connections to the same service as current connection in past 2 seconds\n",
    "25. serror_rate: % of connections that 'SYN' errors\n",
    "26. srv_serror_rate:% of connections that gave 'syn' errors in server\n",
    "27. rerror_rate: % of connection that have 'REJ' errors\n",
    "28. srv_rerror_rate: % of connection that have 'REJ' errors in server\n",
    "29. same_srv_rate: % of connection to the same service\n",
    "30. diff_srv_rate: % of connection to different service\n",
    "31. srv_diff_host_rate: %of connection to different host\n",
    "32. dst_host_count: count of connections having same dst host\n",
    "33. dst_host_srv_count: count of connections having same dst host and using same service\n",
    "34. dst_host_same_srv_rate: % of connections having same dst host and using same service\n",
    "35. dst_host_diff_srv_rate: % of differennt service on current host\n",
    "36. dst_host_same_src_port_rate: % of connections to current host having same src port\n",
    "37. dst_host_srv_diff_host_rate: % of connections to same service coming from diff hosts\n",
    "38. dst_host_serror_rate: % of connection the current host that have an S0 error\n",
    "39. dst_host_srv_serror_rate: %of connections to current host and specified service that have an S0 errot\n",
    "40. dst_host_rerror_rate: % of connections to current host that have an RST error\n",
    "41. dst_host_srv_rerror_rate: % of connections to current host and specified service that have and RST error\n",
    "42. label: connection type"
   ]
  },
  {
   "cell_type": "markdown",
   "id": "33cb83a7-d51c-4df5-827e-b86e9c4c5843",
   "metadata": {},
   "source": [
    "<center>${\\textbf{Data Modeling}}$<center>"
   ]
  },
  {
   "cell_type": "markdown",
   "id": "6e131ddc-b903-4610-8adb-a3c9fc21aa15",
   "metadata": {},
   "source": [
    "${\\textbf{Autoencoders}}$"
   ]
  },
  {
   "cell_type": "markdown",
   "id": "82e6b134-8e1e-4633-b341-a59304db6af4",
   "metadata": {},
   "source": [
    "We were able to almost perfectly identify the anomalous data in the KDD99 dataset and which type of anomaly occurred. However, in the real-world, labeled data can be expensive and hard to come by. Especially with network security, zero-day attacks can be the most challenging and also the most important attacks to detect. Since, by definition, these attacks are happening for the first time, there will be no way to have labels from them.\n",
    "\n",
    "So how do we approach this problem?\n",
    "\n",
    "For starters, we could have security analysts investigate the network packets and label anomalous ones. But that solution doesn't scale and our models might have difficulty identifying attacks that haven't occurred before.\n",
    "\n",
    "Our solution needs to use \"unsupervised learning.\" Unsupervised learning is the class of machine learning and deep learning algorithms that enable us to draw inferences from our dataset without labels.\n",
    "\n",
    "In this lab we will use autoencoders (AEs) to detect anomalies in the KDD99 dataset. There are a lot of advantages to using autoencoders for detecting anomalies. One main advantage is the that AEs can learn non-linear relationships in the data.\n",
    "\n",
    "While we will not be using the labels in the KDD99 dataset explicitly for model training, we will be using them to evaluate how well our model is doing at detecting the anomalies. We will also use the labels to see if the AE is embedding the anomalies in latent space according to the type of anomaly.\n",
    "\n",
    "Recall that when using XGBoost, the ratio didn't impact training meaningfully. Anomalies were simply a class of our dataset, not made special in any way by their rare nature. Using AutoEncoders, you'll see that that's no longer true. We'll explore the questions of how rare is rare enough? and how does that impact our ability to identify multiple classes of anomalies?."
   ]
  },
  {
   "cell_type": "code",
   "execution_count": 14,
   "id": "42ff2ecb-79f8-4594-bcf1-df91b2cdb7b0",
   "metadata": {},
   "outputs": [],
   "source": [
    "def reduce_anomalies(df, pct_anomalies=.01):\n",
    "    labels = df['label'].copy()\n",
    "    is_anomaly = labels != 'normal.'\n",
    "    num_normal = np.sum(~is_anomaly)\n",
    "    num_anomalies = int(pct_anomalies * num_normal)\n",
    "    all_anomalies = labels[labels != 'normal.']\n",
    "    anomalies_to_keep = np.random.choice(all_anomalies.index, size=num_anomalies, replace=False)\n",
    "    anomalous_data = df.iloc[anomalies_to_keep].copy()\n",
    "    normal_data = df[~is_anomaly].copy()\n",
    "    new_df = pd.concat([normal_data, anomalous_data], axis=0)\n",
    "    return new_df\n",
    "pct_anomalies = .01\n",
    "kDD = reduce_anomalies(KDD99, pct_anomalies=pct_anomalies)"
   ]
  },
  {
   "cell_type": "code",
   "execution_count": 15,
   "id": "7f9010ea-1f8b-4330-900a-00a96e2e7ab3",
   "metadata": {},
   "outputs": [],
   "source": [
    "filename = './data/preprocessed_data_full.pkl'\n",
    "input_file = open(filename,'rb')\n",
    "preprocessed_data = pickle.load(input_file)\n",
    "input_file.close()"
   ]
  },
  {
   "cell_type": "code",
   "execution_count": 16,
   "id": "4c58acfd-b436-43e1-909b-632ec40edd92",
   "metadata": {},
   "outputs": [],
   "source": [
    "le = preprocessed_data['le']\n",
    "x_train = preprocessed_data['x_train']\n",
    "y_train = preprocessed_data['y_train']\n",
    "x_test = preprocessed_data['x_test']\n",
    "y_test = preprocessed_data['y_test']"
   ]
  },
  {
   "cell_type": "code",
   "execution_count": 17,
   "id": "a48ef4bc-b2da-4f25-b2a9-68a85a3b4c75",
   "metadata": {},
   "outputs": [],
   "source": [
    "# capture the categorical variables and one-hot encode them\n",
    "cat_vars = ['protocol_type', 'service', 'flag', 'land', 'logged_in','is_host_login', 'is_guest_login']\n",
    "\n",
    "# find unique labels for each category\n",
    "cat_data = pd.get_dummies(kDD[cat_vars])\n",
    "\n",
    "numeric_vars = list(set(kDD.columns.values.tolist()) - set(cat_vars))\n",
    "numeric_vars.remove('label')\n",
    "numeric_data = kDD[numeric_vars].copy()\n",
    "\n",
    "numeric_cat_data = pd.concat([numeric_data, cat_data], axis=1)\n",
    "\n",
    "# capture the labels\n",
    "labels = kDD['label'].copy()\n",
    "\n",
    "# convert labels to integers\n",
    "integer_labels = le.transform(labels)\n",
    "\n",
    "# split data into test and train\n",
    "x_train, x_test, y_train, y_test = train_test_split(numeric_cat_data,\n",
    "                                                    integer_labels,\n",
    "                                                    test_size=.25, \n",
    "                                                    random_state=42)"
   ]
  },
  {
   "cell_type": "code",
   "execution_count": 18,
   "id": "52b3f19a-b547-492b-afb7-25fb58ed27b1",
   "metadata": {},
   "outputs": [],
   "source": [
    "# Normalize the testing and training data using the MinMaxScaler from the scikit learn package\n",
    "scaler = MinMaxScaler()\n",
    "\n",
    "# Make sure to only fit the scaler on the training data\n",
    "x_train = scaler.fit_transform(x_train)\n",
    "x_test = scaler.transform(x_test)\n",
    "\n",
    "# convert the data to FP32\n",
    "x_train = x_train.astype(np.float32)\n",
    "x_test = x_test.astype(np.float32)"
   ]
  },
  {
   "cell_type": "markdown",
   "id": "c20bfd4b-64ad-4558-a3bb-3ed30cd333be",
   "metadata": {},
   "source": [
    "Autoencoders are a subset of neural network architectures where the output dimension is the same as the input dimension. Autoencoders have two networks, an encoder and a decoder. The encoder encodes its input data into a smaller dimensional space, called the latent space. The decoder network tries to reconstruct the original data from the latent encoding. Typically, the encoder and decoder are symmetric, and the latent space is a bottleneck. The autoencoder has to learn essential characteristics of the data to be able to do a high-quality reconstruction of the data during decode.\n",
    "\n",
    "- batch_size: this determines how many datapoints we use for each gradient update. Choosing a large batch size will make the model train faster but it might not result in the best accuracy or generalization.\n",
    "\n",
    "- latent_dim: this determines the size of our bottleneck. Higher values add network capacity while lower values increase the efficiency of the encoding.\n",
    "\n",
    "- max_epochs: should be high enough for the network to learn from the data, but not so high as to overfit the training data or diverge to a worse result"
   ]
  },
  {
   "cell_type": "code",
   "execution_count": 19,
   "id": "b4b3a8af-097d-4038-aee1-06c4a01f8003",
   "metadata": {},
   "outputs": [],
   "source": [
    "input_dim = x_train.shape[1]\n",
    "\n",
    "# model hyperparameters\n",
    "batch_size = 512\n",
    "\n",
    "latent_dim = 4 \n",
    "\n",
    "max_epochs = 10 "
   ]
  },
  {
   "cell_type": "code",
   "execution_count": 20,
   "id": "521f9bd2-0ad8-4cac-a89e-0477dbafa018",
   "metadata": {},
   "outputs": [],
   "source": [
    "# The encoder will consist of a number of dense layers that decrease in size \n",
    "# as we taper down towards the bottleneck of the network, the latent space\n",
    "input_data = Input(shape=(input_dim,), name='encoder_input')\n",
    "\n",
    "# hidden layers\n",
    "encoder = Dense(96,activation='tanh', name='encoder_1')(input_data)\n",
    "encoder = Dropout(.1)(encoder)\n",
    "encoder = Dense(64,activation='tanh', name='encoder_2')(encoder)\n",
    "encoder = Dropout(.1)(encoder)\n",
    "encoder = Dense(48,activation='tanh', name='encoder_3')(encoder)\n",
    "encoder = Dropout(.1)(encoder)\n",
    "encoder = Dense(16,activation='tanh', name='encoder_4')(encoder)\n",
    "encoder = Dropout(.1)(encoder)\n",
    "\n",
    "# bottleneck layer\n",
    "latent_encoding = Dense(latent_dim, activation='linear', name='latent_encoding')(encoder)"
   ]
  },
  {
   "cell_type": "code",
   "execution_count": 21,
   "id": "667e0e55-2170-4cfe-a717-bf3f2f24cdb0",
   "metadata": {},
   "outputs": [
    {
     "name": "stdout",
     "output_type": "stream",
     "text": [
      "Model: \"model\"\n",
      "_________________________________________________________________\n",
      " Layer (type)                Output Shape              Param #   \n",
      "=================================================================\n",
      " encoder_input (InputLayer)  [(None, 114)]             0         \n",
      "                                                                 \n",
      " encoder_1 (Dense)           (None, 96)                11040     \n",
      "                                                                 \n",
      " dropout (Dropout)           (None, 96)                0         \n",
      "                                                                 \n",
      " encoder_2 (Dense)           (None, 64)                6208      \n",
      "                                                                 \n",
      " dropout_1 (Dropout)         (None, 64)                0         \n",
      "                                                                 \n",
      " encoder_3 (Dense)           (None, 48)                3120      \n",
      "                                                                 \n",
      " dropout_2 (Dropout)         (None, 48)                0         \n",
      "                                                                 \n",
      " encoder_4 (Dense)           (None, 16)                784       \n",
      "                                                                 \n",
      " dropout_3 (Dropout)         (None, 16)                0         \n",
      "                                                                 \n",
      " latent_encoding (Dense)     (None, 4)                 68        \n",
      "                                                                 \n",
      "=================================================================\n",
      "Total params: 21,220\n",
      "Trainable params: 21,220\n",
      "Non-trainable params: 0\n",
      "_________________________________________________________________\n"
     ]
    }
   ],
   "source": [
    "encoder_model = Model(input_data, latent_encoding)\n",
    "\n",
    "encoder_model.summary()"
   ]
  },
  {
   "cell_type": "code",
   "execution_count": 22,
   "id": "924d2eec-6a20-4f7d-8440-efa93257a4a0",
   "metadata": {},
   "outputs": [
    {
     "data": {
      "image/png": "[encoded data removed]",
      "text/plain": [
       "<IPython.core.display.Image object>"
      ]
     },
     "execution_count": 22,
     "metadata": {},
     "output_type": "execute_result"
    }
   ],
   "source": [
    "plot_model(\n",
    "    encoder_model, \n",
    "    to_file='encoder_model.png', \n",
    "    show_shapes=True, \n",
    "    show_layer_names=True, \n",
    "    rankdir='TB' # TB for top to bottom, LR for left to right\n",
    ")\n",
    "Image(filename='encoder_model.png')"
   ]
  },
  {
   "cell_type": "code",
   "execution_count": 23,
   "id": "300ef214-54a0-401c-a30e-afce7f137c04",
   "metadata": {},
   "outputs": [],
   "source": [
    "# The decoder network is a mirror image of the encoder network\n",
    "decoder = Dense(16, activation='tanh', name='decoder_1')(latent_encoding)\n",
    "decoder = Dropout(.1)(decoder)\n",
    "decoder = Dense(48, activation='tanh', name='decoder_2')(decoder)\n",
    "decoder = Dropout(.1)(decoder)\n",
    "decoder = Dense(64, activation='tanh', name='decoder_3')(decoder)\n",
    "decoder = Dropout(.1)(decoder)\n",
    "decoder = Dense(96, activation='tanh', name='decoder_4')(decoder)\n",
    "decoder = Dropout(.1)(decoder)\n",
    "\n",
    "# The output is the same dimension as the input data we are reconstructing\n",
    "reconstructed_data = Dense(input_dim, activation='linear', name='reconstructed_data')(decoder)"
   ]
  },
  {
   "cell_type": "code",
   "execution_count": 24,
   "id": "d081215e-8145-4751-8ba7-1b6afb624bbe",
   "metadata": {},
   "outputs": [
    {
     "name": "stdout",
     "output_type": "stream",
     "text": [
      "Model: \"model_1\"\n",
      "_________________________________________________________________\n",
      " Layer (type)                Output Shape              Param #   \n",
      "=================================================================\n",
      " encoder_input (InputLayer)  [(None, 114)]             0         \n",
      "                                                                 \n",
      " encoder_1 (Dense)           (None, 96)                11040     \n",
      "                                                                 \n",
      " dropout (Dropout)           (None, 96)                0         \n",
      "                                                                 \n",
      " encoder_2 (Dense)           (None, 64)                6208      \n",
      "                                                                 \n",
      " dropout_1 (Dropout)         (None, 64)                0         \n",
      "                                                                 \n",
      " encoder_3 (Dense)           (None, 48)                3120      \n",
      "                                                                 \n",
      " dropout_2 (Dropout)         (None, 48)                0         \n",
      "                                                                 \n",
      " encoder_4 (Dense)           (None, 16)                784       \n",
      "                                                                 \n",
      " dropout_3 (Dropout)         (None, 16)                0         \n",
      "                                                                 \n",
      " latent_encoding (Dense)     (None, 4)                 68        \n",
      "                                                                 \n",
      " decoder_1 (Dense)           (None, 16)                80        \n",
      "                                                                 \n",
      " dropout_4 (Dropout)         (None, 16)                0         \n",
      "                                                                 \n",
      " decoder_2 (Dense)           (None, 48)                816       \n",
      "                                                                 \n",
      " dropout_5 (Dropout)         (None, 48)                0         \n",
      "                                                                 \n",
      " decoder_3 (Dense)           (None, 64)                3136      \n",
      "                                                                 \n",
      " dropout_6 (Dropout)         (None, 64)                0         \n",
      "                                                                 \n",
      " decoder_4 (Dense)           (None, 96)                6240      \n",
      "                                                                 \n",
      " dropout_7 (Dropout)         (None, 96)                0         \n",
      "                                                                 \n",
      " reconstructed_data (Dense)  (None, 114)               11058     \n",
      "                                                                 \n",
      "=================================================================\n",
      "Total params: 42,550\n",
      "Trainable params: 42,550\n",
      "Non-trainable params: 0\n",
      "_________________________________________________________________\n"
     ]
    }
   ],
   "source": [
    "autoencoder_model = Model(input_data, reconstructed_data)\n",
    "\n",
    "autoencoder_model.summary()"
   ]
  },
  {
   "cell_type": "code",
   "execution_count": 25,
   "id": "19ed8879-12e5-4478-bb5c-61e827a5ae39",
   "metadata": {},
   "outputs": [
    {
     "data": {
      "image/png": "[encoded data removed]",
      "text/plain": [
       "<IPython.core.display.Image object>"
      ]
     },
     "execution_count": 25,
     "metadata": {},
     "output_type": "execute_result"
    }
   ],
   "source": [
    "plot_model(\n",
    "    autoencoder_model, \n",
    "    to_file='autoencoder_model.png', \n",
    "    show_shapes=True, \n",
    "    show_layer_names=True, \n",
    "    rankdir='TB' # TB for top to bottom, LR for left to right\n",
    ")\n",
    "\n",
    "Image(filename='autoencoder_model.png')"
   ]
  },
  {
   "cell_type": "code",
   "execution_count": 26,
   "id": "68372f72-d352-40a4-8ac9-a54e4c0c74c6",
   "metadata": {},
   "outputs": [],
   "source": [
    "opt = optimizers.Adam(lr=.00001)\n",
    "\n",
    "autoencoder_model.compile(optimizer=opt, loss='mse', metrics=['accuracy'])"
   ]
  },
  {
   "cell_type": "code",
   "execution_count": 27,
   "id": "d02724f5-f293-4fed-b999-813bef916c16",
   "metadata": {},
   "outputs": [
    {
     "name": "stdout",
     "output_type": "stream",
     "text": [
      "Epoch 1/10\n",
      "1440/1440 [==============================] - 11s 6ms/step - loss: 0.0523 - accuracy: 0.0423 - val_loss: 0.0172 - val_accuracy: 0.0359\n",
      "Epoch 2/10\n",
      "1440/1440 [==============================] - 7s 5ms/step - loss: 0.0247 - accuracy: 0.0810 - val_loss: 0.0114 - val_accuracy: 0.1365\n",
      "Epoch 3/10\n",
      "1440/1440 [==============================] - 8s 5ms/step - loss: 0.0175 - accuracy: 0.1046 - val_loss: 0.0084 - val_accuracy: 0.0821\n",
      "Epoch 4/10\n",
      "1440/1440 [==============================] - 7s 5ms/step - loss: 0.0132 - accuracy: 0.1150 - val_loss: 0.0068 - val_accuracy: 0.1591\n",
      "Epoch 5/10\n",
      "1440/1440 [==============================] - 8s 5ms/step - loss: 0.0108 - accuracy: 0.1334 - val_loss: 0.0061 - val_accuracy: 0.1892\n",
      "Epoch 6/10\n",
      "1440/1440 [==============================] - 7s 5ms/step - loss: 0.0094 - accuracy: 0.1457 - val_loss: 0.0056 - val_accuracy: 0.1606\n",
      "Epoch 7/10\n",
      "1440/1440 [==============================] - 7s 5ms/step - loss: 0.0085 - accuracy: 0.1613 - val_loss: 0.0054 - val_accuracy: 0.2268\n",
      "Epoch 8/10\n",
      "1440/1440 [==============================] - 8s 5ms/step - loss: 0.0079 - accuracy: 0.1788 - val_loss: 0.0052 - val_accuracy: 0.2727\n",
      "Epoch 9/10\n",
      "1440/1440 [==============================] - 7s 5ms/step - loss: 0.0074 - accuracy: 0.1873 - val_loss: 0.0051 - val_accuracy: 0.2706\n",
      "Epoch 10/10\n",
      "1440/1440 [==============================] - 7s 5ms/step - loss: 0.0071 - accuracy: 0.1781 - val_loss: 0.0049 - val_accuracy: 0.1175\n"
     ]
    }
   ],
   "source": [
    "logdir = os.path.join(\"logs\", datetime.datetime.now().strftime(\"%Y%m%d-%H%M%S\"))\n",
    "tensorboard_callback = tf.keras.callbacks.TensorBoard(logdir,profile_batch=0,update_freq='epoch',histogram_freq=1)\n",
    "\n",
    "train_history = autoencoder_model.fit(x_train, x_train,\n",
    "        shuffle=True,\n",
    "        epochs=max_epochs,\n",
    "        batch_size=batch_size,\n",
    "        validation_data=(x_test, x_test),\n",
    "        callbacks=[tensorboard_callback])"
   ]
  },
  {
   "cell_type": "code",
   "execution_count": 28,
   "id": "36015a81-8c35-4981-9b50-c2cf34873bd4",
   "metadata": {},
   "outputs": [
    {
     "data": {
      "text/plain": [
       "<matplotlib.legend.Legend at 0x2b4ca7a5700>"
      ]
     },
     "execution_count": 28,
     "metadata": {},
     "output_type": "execute_result"
    },
    {
     "data": {
      "image/png": "[encoded data removed]",
      "text/plain": [
       "<Figure size 432x288 with 1 Axes>"
      ]
     },
     "metadata": {
      "needs_background": "light"
     },
     "output_type": "display_data"
    }
   ],
   "source": [
    "plt.plot(train_history.history['loss'])\n",
    "plt.plot(train_history.history['val_loss'])\n",
    "plt.legend(['loss on train data', 'loss on validation data'])"
   ]
  },
  {
   "cell_type": "code",
   "execution_count": 29,
   "id": "1c498bed-5039-4698-be0a-ee68624e6c78",
   "metadata": {},
   "outputs": [
    {
     "data": {
      "text/html": [
       "\n",
       "      <iframe id=\"tensorboard-frame-91dffb629f119d3d\" width=\"100%\" height=\"800\" frameborder=\"0\">\n",
       "      </iframe>\n",
       "      <script>\n",
       "        (function() {\n",
       "          const frame = document.getElementById(\"tensorboard-frame-91dffb629f119d3d\");\n",
       "          const url = new URL(\"/\", window.location);\n",
       "          const port = 6006;\n",
       "          if (port) {\n",
       "            url.port = port;\n",
       "          }\n",
       "          frame.src = url;\n",
       "        })();\n",
       "      </script>\n",
       "    "
      ],
      "text/plain": [
       "<IPython.core.display.HTML object>"
      ]
     },
     "metadata": {},
     "output_type": "display_data"
    }
   ],
   "source": [
    "%tensorboard --logdir logs"
   ]
  },
  {
   "cell_type": "code",
   "execution_count": 30,
   "id": "da2ba035-fb4d-49c6-98e0-21eeb515d38c",
   "metadata": {},
   "outputs": [
    {
     "name": "stdout",
     "output_type": "stream",
     "text": [
      "7676/7676 [==============================] - 9s 1ms/step\n"
     ]
    }
   ],
   "source": [
    "# Reconstruct the data using our trainined autoencoder model.\n",
    "x_test_recon = autoencoder_model.predict(x_test)\n",
    "\n",
    "# the reconstruction score is the mean of the reconstruction errors (relatively high scores are anomalous)\n",
    "reconstruction_scores = np.mean((x_test - x_test_recon)**2, axis=1)"
   ]
  },
  {
   "cell_type": "code",
   "execution_count": 31,
   "id": "814d0c6c-e1ac-405a-8320-4ac68f50c2a6",
   "metadata": {},
   "outputs": [
    {
     "data": {
      "text/html": [
       "<div>\n",
       "<style scoped>\n",
       "    .dataframe tbody tr th:only-of-type {\n",
       "        vertical-align: middle;\n",
       "    }\n",
       "\n",
       "    .dataframe tbody tr th {\n",
       "        vertical-align: top;\n",
       "    }\n",
       "\n",
       "    .dataframe thead th {\n",
       "        text-align: right;\n",
       "    }\n",
       "</style>\n",
       "<table border=\"1\" class=\"dataframe\">\n",
       "  <thead>\n",
       "    <tr style=\"text-align: right;\">\n",
       "      <th></th>\n",
       "      <th>recon_score</th>\n",
       "    </tr>\n",
       "  </thead>\n",
       "  <tbody>\n",
       "    <tr>\n",
       "      <th>count</th>\n",
       "      <td>245627.000000</td>\n",
       "    </tr>\n",
       "    <tr>\n",
       "      <th>mean</th>\n",
       "      <td>0.004943</td>\n",
       "    </tr>\n",
       "    <tr>\n",
       "      <th>std</th>\n",
       "      <td>0.008051</td>\n",
       "    </tr>\n",
       "    <tr>\n",
       "      <th>min</th>\n",
       "      <td>0.000067</td>\n",
       "    </tr>\n",
       "    <tr>\n",
       "      <th>25%</th>\n",
       "      <td>0.000517</td>\n",
       "    </tr>\n",
       "    <tr>\n",
       "      <th>50%</th>\n",
       "      <td>0.001984</td>\n",
       "    </tr>\n",
       "    <tr>\n",
       "      <th>75%</th>\n",
       "      <td>0.006877</td>\n",
       "    </tr>\n",
       "    <tr>\n",
       "      <th>max</th>\n",
       "      <td>1.458756</td>\n",
       "    </tr>\n",
       "  </tbody>\n",
       "</table>\n",
       "</div>"
      ],
      "text/plain": [
       "         recon_score\n",
       "count  245627.000000\n",
       "mean        0.004943\n",
       "std         0.008051\n",
       "min         0.000067\n",
       "25%         0.000517\n",
       "50%         0.001984\n",
       "75%         0.006877\n",
       "max         1.458756"
      ]
     },
     "execution_count": 31,
     "metadata": {},
     "output_type": "execute_result"
    }
   ],
   "source": [
    "# store the reconstruction data in a Pandas dataframe\n",
    "anomaly_data = pd.DataFrame({'recon_score':reconstruction_scores})\n",
    "\n",
    "# if our reconstruction scores our normally distributed we can use their statistics\n",
    "anomaly_data.describe()"
   ]
  },
  {
   "cell_type": "code",
   "execution_count": 32,
   "id": "4671ebbf-2ab8-47ca-a087-a73237b8235f",
   "metadata": {},
   "outputs": [
    {
     "data": {
      "text/plain": [
       "<AxesSubplot:xlabel='Reconstruction Score', ylabel='Frequency'>"
      ]
     },
     "execution_count": 32,
     "metadata": {},
     "output_type": "execute_result"
    },
    {
     "data": {
      "image/png": "[encoded data removed]",
      "text/plain": [
       "<Figure size 432x288 with 1 Axes>"
      ]
     },
     "metadata": {
      "needs_background": "light"
     },
     "output_type": "display_data"
    }
   ],
   "source": [
    "# plotting the density will give us an idea of how the reconstruction scores are distributed\n",
    "plt.xlabel('Reconstruction Score')\n",
    "anomaly_data['recon_score'].plot.hist(bins=200, range=[-.01, .03])"
   ]
  },
  {
   "cell_type": "code",
   "execution_count": 33,
   "id": "c3abac0a-f28e-43c3-8412-7ec78cacf73a",
   "metadata": {},
   "outputs": [],
   "source": [
    "def convert_label_to_binary(label_encoder, labels):\n",
    "    normal_idx = np.where(label_encoder.classes_ == 'normal.')[0][0]\n",
    "    my_labels = labels.copy()\n",
    "    my_labels[my_labels != normal_idx] = 1 \n",
    "    my_labels[my_labels == normal_idx] = 0\n",
    "    return my_labels"
   ]
  },
  {
   "cell_type": "code",
   "execution_count": 34,
   "id": "32fdb0e5-5907-4776-a0d5-f5c7530a0a90",
   "metadata": {},
   "outputs": [
    {
     "data": {
      "text/html": [
       "<div>\n",
       "<style scoped>\n",
       "    .dataframe tbody tr th:only-of-type {\n",
       "        vertical-align: middle;\n",
       "    }\n",
       "\n",
       "    .dataframe tbody tr th {\n",
       "        vertical-align: top;\n",
       "    }\n",
       "\n",
       "    .dataframe thead tr th {\n",
       "        text-align: left;\n",
       "    }\n",
       "\n",
       "    .dataframe thead tr:last-of-type th {\n",
       "        text-align: right;\n",
       "    }\n",
       "</style>\n",
       "<table border=\"1\" class=\"dataframe\">\n",
       "  <thead>\n",
       "    <tr>\n",
       "      <th></th>\n",
       "      <th colspan=\"8\" halign=\"left\">recon_score</th>\n",
       "    </tr>\n",
       "    <tr>\n",
       "      <th></th>\n",
       "      <th>count</th>\n",
       "      <th>mean</th>\n",
       "      <th>std</th>\n",
       "      <th>min</th>\n",
       "      <th>25%</th>\n",
       "      <th>50%</th>\n",
       "      <th>75%</th>\n",
       "      <th>max</th>\n",
       "    </tr>\n",
       "    <tr>\n",
       "      <th>binary_labels</th>\n",
       "      <th></th>\n",
       "      <th></th>\n",
       "      <th></th>\n",
       "      <th></th>\n",
       "      <th></th>\n",
       "      <th></th>\n",
       "      <th></th>\n",
       "      <th></th>\n",
       "    </tr>\n",
       "  </thead>\n",
       "  <tbody>\n",
       "    <tr>\n",
       "      <th>0</th>\n",
       "      <td>243161.0</td>\n",
       "      <td>0.004459</td>\n",
       "      <td>0.006350</td>\n",
       "      <td>0.000067</td>\n",
       "      <td>0.000508</td>\n",
       "      <td>0.001921</td>\n",
       "      <td>0.006682</td>\n",
       "      <td>1.458756</td>\n",
       "    </tr>\n",
       "    <tr>\n",
       "      <th>1</th>\n",
       "      <td>2466.0</td>\n",
       "      <td>0.052666</td>\n",
       "      <td>0.013372</td>\n",
       "      <td>0.001214</td>\n",
       "      <td>0.046436</td>\n",
       "      <td>0.046436</td>\n",
       "      <td>0.046436</td>\n",
       "      <td>0.079201</td>\n",
       "    </tr>\n",
       "  </tbody>\n",
       "</table>\n",
       "</div>"
      ],
      "text/plain": [
       "              recon_score                                                    \\\n",
       "                    count      mean       std       min       25%       50%   \n",
       "binary_labels                                                                 \n",
       "0                243161.0  0.004459  0.006350  0.000067  0.000508  0.001921   \n",
       "1                  2466.0  0.052666  0.013372  0.001214  0.046436  0.046436   \n",
       "\n",
       "                                   \n",
       "                    75%       max  \n",
       "binary_labels                      \n",
       "0              0.006682  1.458756  \n",
       "1              0.046436  0.079201  "
      ]
     },
     "execution_count": 34,
     "metadata": {},
     "output_type": "execute_result"
    }
   ],
   "source": [
    "# convert our labels to binary\n",
    "binary_labels = convert_label_to_binary(le, y_test)\n",
    "\n",
    "# add the binary labels to our anomaly dataframe\n",
    "anomaly_data['binary_labels'] = binary_labels\n",
    "\n",
    "# let's check if the reconstruction statistics are different for labeled anomalies\n",
    "anomaly_data.groupby(by='binary_labels').describe()"
   ]
  },
  {
   "cell_type": "markdown",
   "id": "cb7f0868-b8ed-4824-a096-94dda3064ab9",
   "metadata": {},
   "source": [
    "We can see from the above that the anomalous data has a mean reconstruction score of 0.05 while the normal data has a score of ~0.004. This is a good sign that our autoencoder has learned to reconstruct normal data but fails to reconstruct anomalous data."
   ]
  },
  {
   "cell_type": "code",
   "execution_count": 35,
   "id": "1565dfab-db64-4991-bd5c-447da940b5c0",
   "metadata": {},
   "outputs": [
    {
     "data": {
      "image/png": "[encoded data removed]",
      "text/plain": [
       "<Figure size 720x720 with 1 Axes>"
      ]
     },
     "metadata": {
      "needs_background": "light"
     },
     "output_type": "display_data"
    }
   ],
   "source": [
    "fpr, tpr, thresholds = roc_curve(binary_labels, reconstruction_scores)\n",
    "roc_auc = auc(fpr, tpr)\n",
    "\n",
    "plt.figure(figsize=(10,10))\n",
    "plt.plot(fpr, tpr, lw=1, label='ROC curve (area = %0.2f)' % roc_auc)\n",
    "plt.plot([0, 1], [0, 1], color='lime', linestyle='--')\n",
    "plt.xlim([0.0, 1.0])\n",
    "plt.ylim([0.0, 1.05])\n",
    "plt.xlabel('False Positive Rate')\n",
    "plt.ylabel('True Positive Rate')\n",
    "plt.title('Receiver operating characteristic')\n",
    "plt.legend(loc=\"lower right\")\n",
    "plt.show()"
   ]
  },
  {
   "cell_type": "markdown",
   "id": "9119769a-718b-4392-9c05-831cddd73df8",
   "metadata": {},
   "source": [
    "The ROC Curve looks great and we have a perfect AUC score. This is a good sign, but we still need to verify that we can set a threshold which accomplishes our business objective. In this lab we are looking to detect as many anomalies as possible while also minimizing the number of false positives."
   ]
  },
  {
   "cell_type": "code",
   "execution_count": 37,
   "id": "8a3def2d-8c1c-43c5-acf0-cd61049c9ab3",
   "metadata": {},
   "outputs": [
    {
     "name": "stdout",
     "output_type": "stream",
     "text": [
      "0.035075925\n"
     ]
    }
   ],
   "source": [
    "# We can pick the threshold based on maximizing the true positive rate (tpr) \n",
    "# and minimizing the false positive rate (fpr)\n",
    "optimal_threshold_idx = np.argmax(tpr - fpr)\n",
    "optimal_threshold = thresholds[optimal_threshold_idx]\n",
    "print(optimal_threshold)"
   ]
  },
  {
   "cell_type": "code",
   "execution_count": 38,
   "id": "37491a4b-972c-49e9-a893-172eec4c5972",
   "metadata": {},
   "outputs": [
    {
     "name": "stdout",
     "output_type": "stream",
     "text": [
      "0.04519888898357749\n"
     ]
    }
   ],
   "source": [
    "# Or we assume our reconstructions are normally distributed and label anomalies as those\n",
    "# that are a number of standard deviations away from the mean\n",
    "recon_mean = np.mean(reconstruction_scores)\n",
    "recon_stddev = np.std(reconstruction_scores)\n",
    "stats_threshold = recon_mean + 5*recon_stddev\n",
    "print(stats_threshold)"
   ]
  },
  {
   "cell_type": "code",
   "execution_count": 41,
   "id": "b4df5b81-0ed2-493b-85e4-8781e1263e85",
   "metadata": {},
   "outputs": [
    {
     "name": "stdout",
     "output_type": "stream",
     "text": [
      "0.04519888898357749\n"
     ]
    }
   ],
   "source": [
    "#thresh = optimal_threshold\n",
    "thresh = stats_threshold\n",
    "print(thresh)\n",
    "pred_labels = (reconstruction_scores > thresh).astype(int)\n",
    "results = confusion_matrix(binary_labels, pred_labels) "
   ]
  },
  {
   "cell_type": "code",
   "execution_count": 42,
   "id": "4ed57ab0-97ef-4e34-880d-e98d66e01a95",
   "metadata": {},
   "outputs": [
    {
     "name": "stdout",
     "output_type": "stream",
     "text": [
      "Confusion Matrix: \n"
     ]
    },
    {
     "data": {
      "image/png": "[encoded data removed]",
      "text/plain": [
       "<Figure size 432x288 with 2 Axes>"
      ]
     },
     "metadata": {
      "needs_background": "light"
     },
     "output_type": "display_data"
    }
   ],
   "source": [
    "print ('Confusion Matrix: ')\n",
    "\n",
    "def plot_confusion_matrix(cm, target_names, title='Confusion Matrix', cmap=plt.cm.Greens):\n",
    "    plt.imshow(cm, interpolation='nearest', cmap=cmap)\n",
    "    plt.title(title)\n",
    "    plt.colorbar()\n",
    "    tick_marks = np.arange(len(target_names))\n",
    "    plt.xticks(tick_marks, target_names, rotation=45)\n",
    "    plt.yticks(tick_marks, target_names)\n",
    "    plt.tight_layout()\n",
    "\n",
    "    width, height = cm.shape\n",
    "\n",
    "    for x in range(width):\n",
    "        for y in range(height):\n",
    "            plt.annotate(str(cm[x][y]), xy=(y, x), \n",
    "                        horizontalalignment='center',\n",
    "                        verticalalignment='center')\n",
    "    plt.ylabel('True Label')\n",
    "    plt.xlabel('Predicted Label')\n",
    "\n",
    "\n",
    "plot_confusion_matrix(results, ['Normal','Anomaly'])"
   ]
  },
  {
   "cell_type": "markdown",
   "id": "0268835b-e66c-48e7-bdf6-02850f1dd307",
   "metadata": {},
   "source": [
    "Analyzing the confusion matrix, we see that we get optimal results. The algorithm is labeling most of the normal data anomalous data correctly while mislabeling very infrequently."
   ]
  },
  {
   "cell_type": "code",
   "execution_count": 43,
   "id": "279904ae-19c7-4689-b095-5d298dd3e2b3",
   "metadata": {},
   "outputs": [
    {
     "name": "stdout",
     "output_type": "stream",
     "text": [
      "72/72 [==============================] - 0s 831us/step\n"
     ]
    }
   ],
   "source": [
    "# subset the test data so that we are only looking at the predicted anomalies\n",
    "x_test_df = pd.DataFrame(x_test)\n",
    "\n",
    "test_anomalies = x_test_df[pred_labels.astype('bool')]\n",
    "\n",
    "y_test_df = pd.DataFrame(y_test)\n",
    "test_anomalies_labels = y_test_df[pred_labels.astype('bool')]\n",
    "\n",
    "# encode the test anomalies into latent space\n",
    "encoded_test_anomalies = encoder_model.predict(test_anomalies)"
   ]
  },
  {
   "cell_type": "code",
   "execution_count": 44,
   "id": "c25da6d4-cfec-404a-9aa5-83192a40e65b",
   "metadata": {},
   "outputs": [
    {
     "data": {
      "text/plain": [
       "KMeans(n_clusters=10, random_state=123)"
      ]
     },
     "execution_count": 44,
     "metadata": {},
     "output_type": "execute_result"
    }
   ],
   "source": [
    "# apply KMeans to the data in order to create clusters of anomalies\n",
    "kmeans = KMeans(n_clusters=10, random_state=123)\n",
    "kmeans.fit(encoded_test_anomalies)"
   ]
  },
  {
   "cell_type": "code",
   "execution_count": 45,
   "id": "a66bc901-0782-410c-ad46-1694c7db0db5",
   "metadata": {},
   "outputs": [
    {
     "name": "stdout",
     "output_type": "stream",
     "text": [
      "cluster  label\n",
      "0        9           4\n",
      "         11          2\n",
      "         15          2\n",
      "         17          2\n",
      "1        18       1633\n",
      "2        9          26\n",
      "         11          4\n",
      "3        9         536\n",
      "4        11         15\n",
      "5        11         18\n",
      "6        11         11\n",
      "7        11         12\n",
      "8        11         11\n",
      "9        11          9\n",
      "Name: label, dtype: int64\n"
     ]
    }
   ],
   "source": [
    "clusters = pd.DataFrame({'cluster':kmeans.labels_, 'label':test_anomalies_labels[0]})\n",
    "\n",
    "most_frequent_labels = clusters.groupby('cluster').label.value_counts()\n",
    "\n",
    "print(most_frequent_labels)"
   ]
  },
  {
   "cell_type": "code",
   "execution_count": 46,
   "id": "3b57be8a-ae14-40cf-983b-6a60ac289d89",
   "metadata": {},
   "outputs": [],
   "source": [
    "# this dictionary will map our cluster values to the labels that appear most frequently\n",
    "cluster_to_label = {}\n",
    "for cluster in range(0, 10):\n",
    "    label = most_frequent_labels[cluster].index[0]\n",
    "    cluster_to_label[cluster] = label\n",
    "\n",
    "# we then replace the clusters inplace by their label values\n",
    "clusters.cluster.replace(cluster_to_label, inplace=True)"
   ]
  },
  {
   "cell_type": "code",
   "execution_count": 47,
   "id": "20eb60c1-9132-4782-b1f9-079544569673",
   "metadata": {},
   "outputs": [
    {
     "name": "stdout",
     "output_type": "stream",
     "text": [
      "Confusion Matrix :\n"
     ]
    },
    {
     "data": {
      "image/png": "[encoded data removed]",
      "text/plain": [
       "<Figure size 720x720 with 2 Axes>"
      ]
     },
     "metadata": {
      "needs_background": "light"
     },
     "output_type": "display_data"
    }
   ],
   "source": [
    "target_names = np.unique(list(clusters.label))\n",
    "cm = confusion_matrix(clusters.label, clusters.cluster)\n",
    "\n",
    "print ('Confusion Matrix :')\n",
    "\n",
    "def plot_confusion_matrix(cm,target_names, title='Confusion matrix', cmap=plt.cm.Greens):\n",
    "    plt.figure(figsize=(10,10),)\n",
    "    plt.imshow(cm, interpolation='nearest', cmap=cmap)\n",
    "    plt.title(title)\n",
    "    plt.colorbar()\n",
    "    tick_marks = np.arange(len(target_names))\n",
    "    plt.xticks(tick_marks, target_names, rotation=45)\n",
    "    plt.yticks(tick_marks, target_names)\n",
    "    plt.tight_layout()\n",
    "\n",
    "    width, height = cm.shape\n",
    "\n",
    "    for x in range(width):\n",
    "        for y in range(height):\n",
    "            plt.annotate(str(cm[x][y]), xy=(y, x), \n",
    "                        horizontalalignment='center',\n",
    "                        verticalalignment='center')\n",
    "    plt.ylabel('True label')\n",
    "    plt.xlabel('Predicted label')\n",
    "\n",
    "\n",
    "plot_confusion_matrix(cm,target_names)"
   ]
  },
  {
   "cell_type": "markdown",
   "id": "19792f92-fcc9-4020-831a-7bcad730850f",
   "metadata": {},
   "source": [
    "- We were successfully able to detect KDD99 anomalies without using the labels for training by using a deep autoencoder.\n",
    "- We then showed that autoencoder model was embedding the anomalous datapoints in latent space according to the type of anomaly.\n",
    "- This means we could begin labeling the anomalous data by having SMEs look at a small fraction of the total data."
   ]
  }
 ],
 "metadata": {
  "kernelspec": {
   "display_name": "Python 3 (ipykernel)",
   "language": "python",
   "name": "python3"
  },
  "language_info": {
   "codemirror_mode": {
    "name": "ipython",
    "version": 3
   },
   "file_extension": ".py",
   "mimetype": "text/x-python",
   "name": "python",
   "nbconvert_exporter": "python",
   "pygments_lexer": "ipython3",
   "version": "3.9.12"
  }
 },
 "nbformat": 4,
 "nbformat_minor": 5
}
